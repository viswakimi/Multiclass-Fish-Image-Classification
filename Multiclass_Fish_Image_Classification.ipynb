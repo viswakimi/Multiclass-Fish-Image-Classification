{
  "nbformat": 4,
  "nbformat_minor": 0,
  "metadata": {
    "colab": {
      "provenance": [],
      "authorship_tag": "ABX9TyPc4A8eAgc2oSXooGh0weH+",
      "include_colab_link": true
    },
    "kernelspec": {
      "name": "python3",
      "display_name": "Python 3"
    },
    "language_info": {
      "name": "python"
    }
  },
  "cells": [
    {
      "cell_type": "markdown",
      "metadata": {
        "id": "view-in-github",
        "colab_type": "text"
      },
      "source": [
        "<a href=\"https://colab.research.google.com/github/viswakimi/Multiclass-Fish-Image-Classification/blob/main/Multiclass_Fish_Image_Classification.ipynb\" target=\"_parent\"><img src=\"https://colab.research.google.com/assets/colab-badge.svg\" alt=\"Open In Colab\"/></a>"
      ]
    },
    {
      "cell_type": "code",
      "source": [
        "import os\n",
        "import numpy as np\n",
        "import tensorflow as tf\n",
        "import matplotlib.pyplot as plt\n",
        "from sklearn.metrics import accuracy_score, precision_score, recall_score, f1_score, confusion_matrix\n",
        "import seaborn as sns\n",
        "from tensorflow.keras.preprocessing.image import ImageDataGenerator\n",
        "from tensorflow.keras.applications import VGG16, ResNet50, MobileNet, InceptionV3, EfficientNetB0\n",
        "from tensorflow.keras.models import Sequential, Model, load_model\n",
        "from tensorflow.keras.layers import Dense, Flatten, Dropout\n",
        "from tensorflow.keras.callbacks import EarlyStopping, ModelCheckpoint\n",
        "import streamlit as st\n",
        "from PIL import Image"
      ],
      "metadata": {
        "id": "BL8DCSqd1emD"
      },
      "execution_count": null,
      "outputs": []
    },
    {
      "cell_type": "code",
      "source": [
        "# Define Constants\n",
        "IMG_SIZE = (224, 224)\n",
        "BATCH_SIZE = 32\n",
        "EPOCHS = 20\n",
        "DATASET_PATH = \"dataset/\"\n",
        "MODEL_SAVE_PATH = \"best_fish_model.h5\""
      ],
      "metadata": {
        "id": "uIub9c6w1efb"
      },
      "execution_count": null,
      "outputs": []
    },
    {
      "cell_type": "code",
      "source": [
        "# Data Preprocessing & Augmentation\n",
        "datagen = ImageDataGenerator(\n",
        "    rescale=1./255,\n",
        "    rotation_range=20,\n",
        "    zoom_range=0.2,\n",
        "    horizontal_flip=True,\n",
        "    validation_split=0.2\n",
        ")\n",
        "\n",
        "train_gen = datagen.flow_from_directory(\n",
        "    DATASET_PATH, target_size=IMG_SIZE, batch_size=BATCH_SIZE, class_mode='categorical', subset='training'\n",
        ")\n",
        "val_gen = datagen.flow_from_directory(\n",
        "    DATASET_PATH, target_size=IMG_SIZE, batch_size=BATCH_SIZE, class_mode='categorical', subset='validation'\n",
        ")"
      ],
      "metadata": {
        "id": "vnzt5HwB1ecS"
      },
      "execution_count": null,
      "outputs": []
    },
    {
      "cell_type": "code",
      "source": [
        "# Function to Create CNN Model\n",
        "def create_cnn_model(input_shape, num_classes):\n",
        "    model = Sequential([\n",
        "        tf.keras.layers.Conv2D(32, (3,3), activation='relu', input_shape=input_shape),\n",
        "        tf.keras.layers.MaxPooling2D(2,2),\n",
        "        tf.keras.layers.Conv2D(64, (3,3), activation='relu'),\n",
        "        tf.keras.layers.MaxPooling2D(2,2),\n",
        "        tf.keras.layers.Conv2D(128, (3,3), activation='relu'),\n",
        "        tf.keras.layers.MaxPooling2D(2,2),\n",
        "        Flatten(),\n",
        "        Dense(256, activation='relu'),\n",
        "        Dropout(0.5),\n",
        "        Dense(num_classes, activation='softmax')\n",
        "    ])\n",
        "    model.compile(optimizer='adam', loss='categorical_crossentropy', metrics=['accuracy'])\n",
        "    return model\n"
      ],
      "metadata": {
        "id": "Sf8Tql5u1eZT"
      },
      "execution_count": null,
      "outputs": []
    },
    {
      "cell_type": "code",
      "source": [
        "# Function to Load and Fine-Tune Pretrained Models\n",
        "def load_pretrained_model(base_model, num_classes):\n",
        "    base_model = base_model(weights='imagenet', include_top=False, input_shape=(*IMG_SIZE, 3))\n",
        "    for layer in base_model.layers:\n",
        "        layer.trainable = True  # Fine-tune all layers\n",
        "    x = Flatten()(base_model.output)\n",
        "    x = Dense(256, activation='relu')(x)\n",
        "    x = Dropout(0.5)(x)\n",
        "    output = Dense(num_classes, activation='softmax')(x)\n",
        "    model = Model(inputs=base_model.input, outputs=output)\n",
        "    model.compile(optimizer=tf.keras.optimizers.Adam(learning_rate=1e-5), loss='categorical_crossentropy', metrics=['accuracy'])\n",
        "    return model\n"
      ],
      "metadata": {
        "id": "4GTuHTuD1eOD"
      },
      "execution_count": null,
      "outputs": []
    },
    {
      "cell_type": "code",
      "source": [
        "# Training Models\n",
        "num_classes = len(train_gen.class_indices)\n",
        "models = {\n",
        "    \"CNN\": create_cnn_model((*IMG_SIZE, 3), num_classes),\n",
        "    \"VGG16\": load_pretrained_model(VGG16, num_classes),\n",
        "    \"ResNet50\": load_pretrained_model(ResNet50, num_classes),\n",
        "    \"MobileNet\": load_pretrained_model(MobileNet, num_classes),\n",
        "    \"InceptionV3\": load_pretrained_model(InceptionV3, num_classes),\n",
        "    \"EfficientNetB0\": load_pretrained_model(EfficientNetB0, num_classes)\n",
        "}"
      ],
      "metadata": {
        "id": "q210RU161s1B"
      },
      "execution_count": null,
      "outputs": []
    },
    {
      "cell_type": "code",
      "source": [
        "history_dict = {}\n",
        "metrics_dict = {}\n",
        "best_model_name = \"\"\n",
        "best_accuracy = 0.0\n",
        "\n",
        "for model_name, model in models.items():\n",
        "    print(f\"Training {model_name}...\")\n",
        "    checkpoint = ModelCheckpoint(MODEL_SAVE_PATH, save_best_only=True, monitor='val_accuracy', mode='max')\n",
        "    early_stopping = EarlyStopping(monitor='val_loss', patience=5, restore_best_weights=True)\n",
        "    history = model.fit(train_gen, validation_data=val_gen, epochs=EPOCHS, callbacks=[checkpoint, early_stopping])\n",
        "    history_dict[model_name] = history.history\n",
        "    model.save(f\"{model_name}_fish_model.h5\")\n",
        "\n",
        "    # Evaluate model\n",
        "    val_preds = np.argmax(model.predict(val_gen), axis=1)\n",
        "    val_labels = val_gen.classes\n",
        "\n",
        "    accuracy = accuracy_score(val_labels, val_preds)\n",
        "    metrics_dict[model_name] = {\n",
        "        \"Accuracy\": accuracy,\n",
        "        \"Precision\": precision_score(val_labels, val_preds, average='macro'),\n",
        "        \"Recall\": recall_score(val_labels, val_preds, average='macro'),\n",
        "        \"F1 Score\": f1_score(val_labels, val_preds, average='macro'),\n",
        "        \"Confusion Matrix\": confusion_matrix(val_labels, val_preds)\n",
        "    }\n",
        "\n",
        "    if accuracy > best_accuracy:\n",
        "        best_accuracy = accuracy\n",
        "        best_model_name = model_name\n",
        "\n",
        "print(f\"Best Model: {best_model_name} with Accuracy: {best_accuracy:.4f}\")"
      ],
      "metadata": {
        "id": "7btMUrwc1sxw"
      },
      "execution_count": null,
      "outputs": []
    },
    {
      "cell_type": "code",
      "source": [
        "# Visualize Training History Separately\n",
        "for model_name, history in history_dict.items():\n",
        "    fig, axs = plt.subplots(1, 2, figsize=(12, 4))\n",
        "\n",
        "    axs[0].plot(history['accuracy'], label='Train Accuracy')\n",
        "    axs[0].plot(history['val_accuracy'], label='Validation Accuracy')\n",
        "    axs[0].set_title(f'{model_name} Accuracy')\n",
        "    axs[0].set_xlabel('Epochs')\n",
        "    axs[0].set_ylabel('Accuracy')\n",
        "    axs[0].legend()\n",
        "\n",
        "    axs[1].plot(history['loss'], label='Train Loss')\n",
        "    axs[1].plot(history['val_loss'], label='Validation Loss')\n",
        "    axs[1].set_title(f'{model_name} Loss')\n",
        "    axs[1].set_xlabel('Epochs')\n",
        "    axs[1].set_ylabel('Loss')\n",
        "    axs[1].legend()\n",
        "\n",
        "    plt.show()\n"
      ],
      "metadata": {
        "id": "lEKxbjy-1su5"
      },
      "execution_count": null,
      "outputs": []
    },
    {
      "cell_type": "code",
      "source": [],
      "metadata": {
        "id": "iOl1v-oR1sr5"
      },
      "execution_count": null,
      "outputs": []
    },
    {
      "cell_type": "code",
      "source": [],
      "metadata": {
        "id": "Bet2WPm51soi"
      },
      "execution_count": null,
      "outputs": []
    }
  ]
}